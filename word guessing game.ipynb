import random as r
name = input("Enter your name :-")
print(f"Welcome to the game {name}\nbest of luck!")
def word_guessing_game():
    items = ["college","school","home","word","apple","there", "their", "about", "would", "these", "other", "words", "could", "write", "first", "water", "after", "where", "right", "think", "three", "years", "place", "sound", "great", "again", "still", "every", "small", "found", "those", "never", "under", "might", "while", "house", "world", "below", "asked", "going", "large", "until", "along", "shall", "being", "often", "earth", "began", "since", "study", "night", "light", "above", "paper", "parts", "young", "story", "point", "times", "heard", "whole", "white", "given", "means", "music", "miles", "thing", "today", "later", "using", "money", "lines", "order", "group", "among", "learn", "known", "space", "table", "early", "trees", "short", "hands", "state", "black", "shown", "stood", "front", "voice", "kinds", "makes", "comes", "close", "power", "lived", "vowel", "taken", "built", "heart", "ready", "quite", "class", "bring", "round", "horse", "shows", "piece", "green", "stand", "birds", "start", "river", "tried", "least", "field", "whose", "girls", "leave", "added", "color", "third", "hours", "moved", "plant", "doing", "names", "forms", "heavy", "ideas", "cried", "check", "floor", "begin", "woman", "alone", "banana"]
    word = r.choice(items)
    word_length = len(word)
    display = ['_']*word_length
    guesses = []
    max_attempts = 15
    attempts = 0
    while attempts < max_attempts and ''.join(display) != word:
        print(f'\nword:{' '.join(display)}')
        print(f"Attempts left:{max_attempts-attempts}")
        guess = input("Guess a letter").lower()
        
        #ye wala if condition check karega ki kya apne jo letter guess kiya hai uski length 1 se badi hai ya fir woh alpha bet nahi hai
        if len(guess) != 1 or not guess.isalpha():
            print("Input a single letter")
            continue

        #ye wala if condition check karega ki hamne jo letter guess kiya hua hai woh already guessed hai ya nahi.
        #jab ham first time ke liye loop ko run karenge then condition false hoga or continue kam nahi karega 
        if guess in guesses:
            print("You already guessed this letter")
            continue

        guesses.append(guess)

        # updating the total_attempts and letters
        if guess in word:
            print(f"Badhiya! {guess} word mein hai.")
            for i in range(word_length):
                if word[i] == guess:
                    display[i] = guess
        else:
            print(f"Galat! {guess} word mein nahi hai.")
            attempts += 1
        
    if ' '.join(display) == word:
        print(f"Congratulations {name} you won the game.\nThe word is : {word}")
    else:
        print(f"Sorry {name} Attempts are over . The word was {word}")
    
    play_again = input("Wnat to play the game again\ny/n").lower()
    if play_again == 'y':
        word_guessing_game()
    else:
        print("Thanks for playing the game")
word_guessing_game()
